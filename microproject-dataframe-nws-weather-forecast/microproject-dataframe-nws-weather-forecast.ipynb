name: microproject-dataframe-nws-weather-forecast Grading
'on':
  workflow_dispatch: {}
jobs:
  autograding:
    name: autograding
    runs-on: ubuntu-latest
    timeout-minutes: 5
    steps:
    - name: Checkout
      id: sr-checkout
      uses: actions/checkout@v3
    - name: Setup Python
      uses: actions/setup-python@v4
      with:
        python-version: '3.10'
        cache: pip
        cache-dependency-path: microproject-dataframe-nws-weather-forecast/requirements.txt
    - run: pip install -r microproject-dataframe-nws-weather-forecast/requirements.txt
    - name: Checkout release repository
      id: release-checkout
      uses: actions/checkout@v3
      with:
        repository: dsdiscovery/microprojects
        ref: microproject-dataframe-nws-weather-forecast
        path: release
    - name: Checkout cell replacer
      id: cell-replace-checkout
      uses: actions/checkout@v3
      with:
        repository: dsdiscovery/cell-replace
        path: cell-replace
    - name: Run cell-replace
      run: python cell-replace/cell-replace.py microproject-dataframe-nws-weather-forecast/microproject-dataframe-nws-weather-forecast.ipynb release/microproject-dataframe-nws-weather-forecast/microproject-dataframe-nws-weather-forecast.ipynb
    - name: Generate Test Script
      run: 'python3 -m jupyter2pytest microproject-dataframe-nws-weather-forecast/microproject-dataframe-nws-weather-forecast.ipynb "### TEST CASE for (.*)" microproject-dataframe-nws-weather-forecast/test_microproject-dataframe-nws-weather-forecast.py '
    - name: Generate Grading Artifacts
      run: cd microproject-dataframe-nws-weather-forecast && python3 test_microproject-dataframe-nws-weather-forecast.py && cd ..
    - name: Autograding
      id: autograding
      uses: illinois/autograding@v4
      with:
        path: microproject-dataframe-nws-weather-forecast/
        test_suite: autograding
        step_summary: true
        all_or_nothing: true
