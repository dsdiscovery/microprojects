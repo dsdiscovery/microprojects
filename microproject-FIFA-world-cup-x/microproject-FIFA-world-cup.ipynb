{
 "cells": [
  {
   "attachments": {},
   "cell_type": "markdown",
   "execution_count": 0,
   "metadata": {},
   "outputs": [],
   "source": [
    "<h1 style=\"text-align: center\">\n",
    "<div style=\"color: #DD3403; font-size: 60%\">Data Science DISCOVERY MicroProject</div>\n",
    "<span style=\"\">MicroProject: FIFA World Cup</span>\n",
    "<div style=\"font-size: 60%;\"><a href=\"https://discovery.cs.illinois.edu/microproject/fifa-world-cup/\">https://discovery.cs.illinois.edu/microproject/fifa-world-cup/</a></div>\n",
    "</h1>\n",
    "\n",
    "<hr style=\"color: #DD3403;\">"
   ]
  },
  {
   "attachments": {},
   "cell_type": "markdown",
   "execution_count": 0,
   "metadata": {},
   "outputs": [],
   "source": [
    "## Data Source: International Soccer Match Data via GitHub\n",
    "\n",
    "\n",
    "The FIFA World Cup is a global football (soccer) competition contested by the senior men's national teams which occurs every 4 years. It is likely the most popular sporting event in the world, drawing billions of television viewers every tournament.\n",
    "\n",
    "This dataset includes over 45,000 results of international football matches starting from the very first official match in 1872. The matches range from FIFA World Cup to regular friendly matches. The matches are strictly men's full internationals and the data does not include Olympic Games or matches where at least one of the teams was the nation's B-team, U-23 or a league select team.\n",
    "\n",
    "You can view their Match Data GitHub repository here: [https://github.com/martj42/international_results](https://github.com/martj42/international_results).  You can find all the match results by navigating into the repository:\n",
    "\n",
    "- Click **results.csv**\n",
    "- Click the **View Raw** button to above the file contents to navigate to the raw CSV version of the file (without the GitHub interface)\n",
    "- Use the URL of the **raw data as your dataset** for this MicroProject.\n",
    "\n",
    "Use panda's `read_csv` function to read the dataset you found and create a DataFrame called `df` and drop all rows containing a NaN value:\n",
    "\n",
    "*Note: to learn more about the columns in the imported DataFrame navigate the the github page and read the README.md file.*"
   ]
  },
  {
   "cell_type": "code",
   "execution_count": 0,
   "metadata": {},
   "outputs": [],
   "source": [
    "df = ...\n",
    "df"
   ]
  },
  {
   "attachments": {},
   "cell_type": "markdown",
   "execution_count": 0,
   "metadata": {},
   "outputs": [],
   "source": [
    "Remove all rows containing `NaN` by using `df.dropna()` and save this data frame as `df`:"
   ]
  },
  {
   "cell_type": "code",
   "execution_count": 0,
   "metadata": {},
   "outputs": [],
   "source": [
    "..."
   ]
  },
  {
   "attachments": {},
   "cell_type": "markdown",
   "execution_count": 0,
   "metadata": {},
   "outputs": [],
   "source": [
    "### 🔬 Checkpoint Tests 🔬"
   ]
  },
  {
   "cell_type": "code",
   "execution_count": 0,
   "metadata": {},
   "outputs": [],
   "source": [
    "### TEST CASE for Data Import\n",
    "# - This read-only cell contains a \"checkpoint\" for this section of the MicroProejct and verifies you are on the right track.\n",
    "# - If this cell results in a celebration message, you PASSED all test cases!\n",
    "# - If this cell results in any errors, check you previous cells, make changes, and RE-RUN your code and then this cell.\n",
    "\n",
    "tada = \"\\N{PARTY POPPER}\"\n",
    "\n",
    "assert(\"df\" in vars())\n",
    "assert(df.isna().sum().sum() == 0)\n",
    "assert(\"home_team\" in df)\n",
    "print(f\"{tada} All Tests Passed! {tada}\") "
   ]
  },
  {
   "attachments": {},
   "cell_type": "markdown",
   "execution_count": 0,
   "metadata": {},
   "outputs": [],
   "source": [
    "<hr style=\"color: #DD3403;\">"
   ]
  },
  {
   "attachments": {},
   "cell_type": "markdown",
   "execution_count": 0,
   "metadata": {},
   "outputs": [],
   "source": [
    "## Part 1: EDA\n",
    "\n",
    "The DataFrame currently has data about every match played, but it's often useful to view aggregated information about each country.\n",
    "\n",
    "Create a summary of in a new DataFrame, `df_home_goals`, that has the total goals **that each nation has scored** at home in descending order.  Specifically, your `df_home_goals` should:\n",
    "- Aggregate all of the rows with the same `home_team` together (ex: all the Brazil rows should be combined),\n",
    "- Find the **total number of home goals** across all of the games each `home_team` has played\n",
    "- Sort the DataFrame by the number of home goals in **descending order**, and\n",
    "- Remove all other columns except `home_team` and `home_score` from the final DataFrame so that `df_home_goals` has only those two columns.\n",
    "\n",
    "*(See the DISCOVERY lecture [\"Grouping Data in Python\"](https://discovery.cs.illinois.edu/learn/Exploratory-Data-Analysis/Grouping-Data-in-Python/) for a refresher on how to group data.)*"
   ]
  },
  {
   "cell_type": "code",
   "execution_count": 0,
   "metadata": {},
   "outputs": [],
   "source": [
    "df_home_goals = ...\n",
    "df_home_goals"
   ]
  },
  {
   "attachments": {},
   "cell_type": "markdown",
   "execution_count": 0,
   "metadata": {},
   "outputs": [],
   "source": [
    "### Away Team and Away Goals\n",
    "\n",
    "How about for away_goals?  Do the same thing, but for `away_team` and `away_score`.  Call this DataFrame `df_away_goals`:"
   ]
  },
  {
   "cell_type": "code",
   "execution_count": 0,
   "metadata": {},
   "outputs": [],
   "source": [
    "df_away_goals = ...\n",
    "df_away_goals"
   ]
  },
  {
   "attachments": {},
   "cell_type": "markdown",
   "execution_count": 0,
   "metadata": {},
   "outputs": [],
   "source": [
    "### 🔬 Checkpoint Tests 🔬"
   ]
  },
  {
   "cell_type": "code",
   "execution_count": 0,
   "metadata": {},
   "outputs": [],
   "source": [
    "### TEST CASE for Part 1: EDA\n",
    "tada = \"\\N{PARTY POPPER}\"\n",
    "\n",
    "assert(\"df_home_goals\" in vars())\n",
    "assert(\"df_away_goals\" in vars())\n",
    "\n",
    "assert(len(df_home_goals.columns) == 2)\n",
    "assert(\"home_score\" in df_home_goals)\n",
    "assert(\"home_team\" in df_home_goals)\n",
    "\n",
    "assert(len(df_away_goals.columns) == 2)\n",
    "assert(\"away_score\" in df_away_goals)\n",
    "assert(\"away_team\" in df_away_goals)\n",
    "\n",
    "assert(df_home_goals.iloc[20][\"home_score\"] < df_home_goals.iloc[0][\"home_score\"]), \"Make sure to sort the dataframe\"\n",
    "assert(df_home_goals.iloc[56][\"home_score\"] < df_home_goals.iloc[0][\"home_score\"])\n",
    "assert(df_home_goals.iloc[56][\"home_score\"] < df_home_goals.iloc[20][\"home_score\"])\n",
    "\n",
    "assert(df_away_goals.iloc[20][\"away_score\"] < df_away_goals.iloc[0][\"away_score\"]), \"Make sure to sort the dataframe\"\n",
    "assert(df_away_goals.iloc[56][\"away_score\"] < df_away_goals.iloc[0][\"away_score\"])\n",
    "assert(df_away_goals.iloc[56][\"away_score\"] < df_away_goals.iloc[20][\"away_score\"])\n",
    "\n",
    "\n",
    "print(f\"{tada} All Tests Passed! {tada}\") "
   ]
  },
  {
   "attachments": {},
   "cell_type": "markdown",
   "execution_count": 0,
   "metadata": {},
   "outputs": [],
   "source": [
    "<hr style=\"color: #DD3403;\">"
   ]
  },
  {
   "attachments": {},
   "cell_type": "markdown",
   "execution_count": 0,
   "metadata": {},
   "outputs": [],
   "source": [
    "## Part 2: World Cup\n",
    "\n",
    "In the DataSet, the `tournament` column provides the tournament where the game was played.\n",
    "\n",
    "World Cup games were the only international matches played on Nov. 30, 2022 (`2022-11-30`).  Find the `tournament` string used for games during the World Cup by looking at games with that `date` during the world cup."
   ]
  },
  {
   "cell_type": "code",
   "execution_count": 0,
   "metadata": {},
   "outputs": [],
   "source": [
    "..."
   ]
  },
  {
   "attachments": {},
   "cell_type": "markdown",
   "execution_count": 0,
   "metadata": {},
   "outputs": [],
   "source": [
    "Knowing how the World Cup games are labeled, create a new DataFrame `df_worldcup` that contains all World Cup games played in the dataset:"
   ]
  },
  {
   "cell_type": "code",
   "execution_count": 0,
   "metadata": {},
   "outputs": [],
   "source": [
    "df_worldcup = ...\n",
    "df_worldcup"
   ]
  },
  {
   "attachments": {},
   "cell_type": "markdown",
   "execution_count": 0,
   "metadata": {},
   "outputs": [],
   "source": [
    "### 🔬 Checkpoint Tests 🔬"
   ]
  },
  {
   "cell_type": "code",
   "execution_count": 0,
   "metadata": {},
   "outputs": [],
   "source": [
    "### TEST CASE for Part 2.1: World Cup Games\n",
    "\n",
    "tada = \"\\N{PARTY POPPER}\"\n",
    "\n",
    "assert(\"df_worldcup\" in vars())\n",
    "\n",
    "assert(len(df_worldcup) > 960)\n",
    "assert(len(df_worldcup[\"tournament\"].unique()) == 1)\n",
    "assert(\"World Cup\" in df_worldcup[\"tournament\"].unique()[0])\n",
    "\n",
    "print(f\"{tada} All Tests Passed! {tada}\") "
   ]
  },
  {
   "attachments": {},
   "cell_type": "markdown",
   "execution_count": 0,
   "metadata": {},
   "outputs": [],
   "source": [
    "## Total Points Scored at The World Cup\n",
    "\n",
    "Calculate the number of goals scored in **ALL** World Cup matches and store that value in `total_WC_goals`.  The variable `total_WC_goals` should be a single number of the total goals scored (not a DataFrame or a row).\n",
    "\n",
    "- Each game has two teams -- make sure you are adding **both** `home_score` and `away_score` in World Cup games to find the total number of points scored."
   ]
  },
  {
   "cell_type": "code",
   "execution_count": 0,
   "metadata": {},
   "outputs": [],
   "source": [
    "total_WC_goals = ...\n",
    "total_WC_goals"
   ]
  },
  {
   "attachments": {},
   "cell_type": "markdown",
   "execution_count": 0,
   "metadata": {},
   "outputs": [],
   "source": [
    "### 🔬 Checkpoint Tests 🔬"
   ]
  },
  {
   "cell_type": "code",
   "execution_count": 0,
   "metadata": {},
   "outputs": [],
   "source": [
    "### TEST CASE for Part 2.2: Total Points Scored at The World Cup\n",
    "tada = \"\\N{PARTY POPPER}\"\n",
    "assert(df[df[\"tournament\"] == \"FIFA World Cup\"].sum().iloc[3] + df[df[\"tournament\"] == \"FIFA World Cup\"].sum().iloc[4] == total_WC_goals)\n",
    "print(f\"{tada} All Tests Passed! {tada}\") "
   ]
  },
  {
   "attachments": {},
   "cell_type": "markdown",
   "execution_count": 0,
   "metadata": {},
   "outputs": [],
   "source": [
    "<hr style=\"color: #DD3403;\">"
   ]
  },
  {
   "attachments": {},
   "cell_type": "markdown",
   "execution_count": 0,
   "metadata": {},
   "outputs": [],
   "source": [
    "## Part 3: United States Win Percentage\n",
    "\n",
    "Our dataset contains a `home_team` and an `away_team` column along with a home_score and away_score. Using these columns find the number of wins, losses, and ties the United States has:"
   ]
  },
  {
   "attachments": {},
   "cell_type": "markdown",
   "execution_count": 0,
   "metadata": {},
   "outputs": [],
   "source": [
    "First, find `US_wins`, the number of games the United States has won the match:"
   ]
  },
  {
   "cell_type": "code",
   "execution_count": 0,
   "metadata": {},
   "outputs": [],
   "source": [
    "US_wins = ..."
   ]
  },
  {
   "attachments": {},
   "cell_type": "markdown",
   "execution_count": 0,
   "metadata": {},
   "outputs": [],
   "source": [
    "Next, find `US_loss`, the number of times the United States has loss the match:"
   ]
  },
  {
   "cell_type": "code",
   "execution_count": 0,
   "metadata": {},
   "outputs": [],
   "source": [
    "US_loss = ..."
   ]
  },
  {
   "attachments": {},
   "cell_type": "markdown",
   "execution_count": 0,
   "metadata": {},
   "outputs": [],
   "source": [
    "Finally, find `US_draw`, the number of times the United States has a draw in the match:"
   ]
  },
  {
   "cell_type": "code",
   "execution_count": 0,
   "metadata": {},
   "outputs": [],
   "source": [
    "US_draw = ..."
   ]
  },
  {
   "attachments": {},
   "cell_type": "markdown",
   "execution_count": 0,
   "metadata": {},
   "outputs": [],
   "source": [
    "### Calculate the Win Percentage of the United States\n",
    "\n",
    "Now, calculate the \"Win Percentage\" of the United States.  In football(soccer), \"Win Percentage\" considers a win to be a win and a draw to be **half** of a win.\n",
    "\n",
    "Save this result as `US_WinPercent`"
   ]
  },
  {
   "cell_type": "code",
   "execution_count": 0,
   "metadata": {},
   "outputs": [],
   "source": [
    "US_WinPercent = ...\n",
    "US_WinPercent"
   ]
  },
  {
   "attachments": {},
   "cell_type": "markdown",
   "execution_count": 0,
   "metadata": {},
   "outputs": [],
   "source": [
    "### 🔬 Checkpoint Tests 🔬"
   ]
  },
  {
   "cell_type": "code",
   "execution_count": 0,
   "metadata": {},
   "outputs": [],
   "source": [
    "### TEST CASE for Part 3: United States Win Percentage\n",
    "\n",
    "tada = \"\\N{PARTY POPPER}\"\n",
    "\n",
    "assert(\"US_wins\" in vars())\n",
    "assert(\"US_loss\" in vars())\n",
    "assert(\"US_draw\" in vars())\n",
    "assert(\"US_WinPercent\" in vars())\n",
    "\n",
    "assert(len(df[((df.iloc[:, 1] == df.iloc[41, 1])&(df.iloc[:,3] > df.iloc[:,4])) | (df.iloc[:, 2] == df.iloc[41, 1])&(df.iloc[:,3] < df.iloc[:,4])])\n",
    " == US_wins)\n",
    "assert(len(df[((df.iloc[:, 1] == df.iloc[41, 1])&(df.iloc[:,3] < df.iloc[:,4])) | (df.iloc[:, 2] == df.iloc[41, 1])&(df.iloc[:,3] > df.iloc[:,4])])\n",
    " == US_loss)\n",
    "assert(len(df[((df.iloc[:, 1] == df.iloc[41, 1])&(df.iloc[:,3] == df.iloc[:,4])) | (df.iloc[:, 2] == df.iloc[41, 1])&(df.iloc[:,3] == df.iloc[:,4])])\n",
    " == US_draw)\n",
    "\n",
    "assert((US_wins + .5*US_draw) / (US_draw+US_loss+US_wins) == US_WinPercent) \n",
    "print(f\"{tada} All Tests Passed! {tada}\") "
   ]
  },
  {
   "attachments": {},
   "cell_type": "markdown",
   "execution_count": 0,
   "metadata": {},
   "outputs": [],
   "source": [
    "<hr style=\"color: #DD3403;\">"
   ]
  },
  {
   "attachments": {},
   "cell_type": "markdown",
   "execution_count": 0,
   "metadata": {},
   "outputs": [],
   "source": [
    "## Submission\n",
    "\n",
    "You're almost done!  All you need to do is to commit your lab to GitHub and run the GitHub Actions Grader:\n",
    "\n",
    "1.  ⚠️ **Make certain to save your work.** ⚠️ To do this, go to **File => Save All**\n",
    "\n",
    "2.  After you have saved, exit this notebook and return to https://discovery.cs.illinois.edu/microproject/fifa-world-cup/ and complete the section **\"Commit and Grade Your Notebook\"**.\n",
    "\n",
    "3. If you see a 100% grade result on your GitHub Action, you've completed this MicroProject! 🎉"
   ]
  }
 ],
 "metadata": {
  "kernelspec": {
   "display_name": "Python 3",
   "language": "python",
   "name": "python3"
  },
  "language_info": {
   "codemirror_mode": {
    "name": "ipython",
    "version": 3
   },
   "file_extension": ".py",
   "mimetype": "text/x-python",
   "name": "python",
   "nbconvert_exporter": "python",
   "pygments_lexer": "ipython3",
   "version": "3.11.5"
  }
 },
 "nbformat": 4,
 "nbformat_minor": 2
}
